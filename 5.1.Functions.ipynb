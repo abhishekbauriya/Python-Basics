{
 "cells": [
  {
   "cell_type": "markdown",
   "id": "pressing-energy",
   "metadata": {},
   "source": [
    "## Functions\n",
    "\n",
    "You'r already familiar with the print(), input(), len() functions. But also can write your own functions. A function is like a mini-program within a program that performs a specific task."
   ]
  },
  {
   "cell_type": "markdown",
   "id": "damaged-joshua",
   "metadata": {},
   "source": [
    "### 1.Examples"
   ]
  },
  {
   "cell_type": "code",
   "execution_count": 1,
   "id": "reduced-visit",
   "metadata": {},
   "outputs": [],
   "source": [
    "def food(x):                                                       #defining of a function\n",
    "    print(\" i like\", x)                                            #statements"
   ]
  },
  {
   "cell_type": "code",
   "execution_count": 2,
   "id": "magnetic-fundamentals",
   "metadata": {},
   "outputs": [
    {
     "name": "stdout",
     "output_type": "stream",
     "text": [
      " i like pizza\n"
     ]
    }
   ],
   "source": [
    "#Here, this function can be used by multiple users.\n",
    "\n",
    ">>> food('pizza')                                                  #calling of function"
   ]
  },
  {
   "cell_type": "code",
   "execution_count": 3,
   "id": "metropolitan-actress",
   "metadata": {},
   "outputs": [
    {
     "name": "stdout",
     "output_type": "stream",
     "text": [
      " i like burger\n"
     ]
    }
   ],
   "source": [
    ">>> food('burger')"
   ]
  },
  {
   "cell_type": "code",
   "execution_count": 4,
   "id": "square-causing",
   "metadata": {},
   "outputs": [
    {
     "name": "stdout",
     "output_type": "stream",
     "text": [
      " i like vada pav\n"
     ]
    }
   ],
   "source": [
    ">>> food('vada pav')"
   ]
  },
  {
   "cell_type": "markdown",
   "id": "facial-senator",
   "metadata": {},
   "source": [
    "### 2.Examples"
   ]
  },
  {
   "cell_type": "code",
   "execution_count": 14,
   "id": "unexpected-white",
   "metadata": {},
   "outputs": [],
   "source": [
    "def coding(x):                                                      #defining a function\n",
    "    print(x, \"studies at DTU Engineering College of Technology\")    #statements"
   ]
  },
  {
   "cell_type": "code",
   "execution_count": 21,
   "id": "embedded-denial",
   "metadata": {},
   "outputs": [
    {
     "name": "stdout",
     "output_type": "stream",
     "text": [
      "Abhishek studies at DTU Engineering College of Technology\n"
     ]
    }
   ],
   "source": [
    "#Here, this function can be used by multiple users.\n",
    "\n",
    "coding(\"Abhishek\")                                                  #calling of function               "
   ]
  },
  {
   "cell_type": "code",
   "execution_count": 22,
   "id": "spare-politics",
   "metadata": {},
   "outputs": [
    {
     "name": "stdout",
     "output_type": "stream",
     "text": [
      "Arohi studies at DTU Engineering College of Technology\n"
     ]
    }
   ],
   "source": [
    "coding(\"Arohi\")"
   ]
  },
  {
   "cell_type": "code",
   "execution_count": 23,
   "id": "front-philosophy",
   "metadata": {},
   "outputs": [
    {
     "name": "stdout",
     "output_type": "stream",
     "text": [
      "Ankita studies at DTU Engineering College of Technology\n"
     ]
    }
   ],
   "source": [
    "coding(\"Ankita\")"
   ]
  },
  {
   "cell_type": "code",
   "execution_count": 24,
   "id": "atlantic-holder",
   "metadata": {},
   "outputs": [
    {
     "name": "stdout",
     "output_type": "stream",
     "text": [
      "Shubham studies at DTU Engineering College of Technology\n"
     ]
    }
   ],
   "source": [
    "coding(\"Shubham\")"
   ]
  },
  {
   "cell_type": "markdown",
   "id": "atomic-switch",
   "metadata": {},
   "source": [
    "### 3.Examples\n",
    "\n",
    "- Function can also take integers as arguments."
   ]
  },
  {
   "cell_type": "code",
   "execution_count": 26,
   "id": "modular-portsmouth",
   "metadata": {},
   "outputs": [],
   "source": [
    "def multiply(x, y):\n",
    "    print(x*y)"
   ]
  },
  {
   "cell_type": "code",
   "execution_count": 27,
   "id": "future-orleans",
   "metadata": {},
   "outputs": [
    {
     "name": "stdout",
     "output_type": "stream",
     "text": [
      "25\n"
     ]
    }
   ],
   "source": [
    ">>> multiply(5,5)"
   ]
  },
  {
   "cell_type": "code",
   "execution_count": 28,
   "id": "challenging-assurance",
   "metadata": {},
   "outputs": [
    {
     "name": "stdout",
     "output_type": "stream",
     "text": [
      "100000\n"
     ]
    }
   ],
   "source": [
    ">>> multiply(200,500)"
   ]
  },
  {
   "cell_type": "code",
   "execution_count": 29,
   "id": "alien-fence",
   "metadata": {},
   "outputs": [
    {
     "name": "stdout",
     "output_type": "stream",
     "text": [
      "354220\n"
     ]
    }
   ],
   "source": [
    ">>> multiply(398,890)"
   ]
  },
  {
   "cell_type": "markdown",
   "id": "nervous-wages",
   "metadata": {},
   "source": [
    "#### Basically in python it is not required to give each argument a datatype like other languages"
   ]
  },
  {
   "cell_type": "code",
   "execution_count": 31,
   "id": "allied-tamil",
   "metadata": {},
   "outputs": [],
   "source": [
    "def student(name,rollno):\n",
    "    print(\"name\",name,\"rollno\",rollno)"
   ]
  },
  {
   "cell_type": "code",
   "execution_count": 32,
   "id": "former-burning",
   "metadata": {},
   "outputs": [
    {
     "name": "stdout",
     "output_type": "stream",
     "text": [
      "name Anjali rollno 71\n"
     ]
    }
   ],
   "source": [
    ">>> student(\"Anjali\",71)"
   ]
  },
  {
   "cell_type": "code",
   "execution_count": 33,
   "id": "unnecessary-astrology",
   "metadata": {},
   "outputs": [
    {
     "name": "stdout",
     "output_type": "stream",
     "text": [
      "name Abhishek rollno 26\n"
     ]
    }
   ],
   "source": [
    ">>> student(\"Abhishek\", 26)"
   ]
  },
  {
   "cell_type": "code",
   "execution_count": 34,
   "id": "comparable-fifteen",
   "metadata": {},
   "outputs": [
    {
     "name": "stdout",
     "output_type": "stream",
     "text": [
      "name Shubham rollno 4\n"
     ]
    }
   ],
   "source": [
    ">>> student(\"Shubham\", 4)"
   ]
  },
  {
   "cell_type": "markdown",
   "id": "liquid-grant",
   "metadata": {},
   "source": [
    "#### Default Parameters"
   ]
  },
  {
   "cell_type": "code",
   "execution_count": 35,
   "id": "bridal-disclosure",
   "metadata": {},
   "outputs": [],
   "source": [
    "def student(name=\"arushi\",rollno=7):                             #default\n",
    "    print(\"name\",name,\"rollno\",rollno)"
   ]
  },
  {
   "cell_type": "code",
   "execution_count": 36,
   "id": "preceding-olympus",
   "metadata": {},
   "outputs": [
    {
     "name": "stdout",
     "output_type": "stream",
     "text": [
      "name arushi rollno 7\n"
     ]
    }
   ],
   "source": [
    ">>> student()                                                    #function with no argument"
   ]
  },
  {
   "cell_type": "code",
   "execution_count": 38,
   "id": "ecological-producer",
   "metadata": {},
   "outputs": [
    {
     "name": "stdout",
     "output_type": "stream",
     "text": [
      "name nitu rollno 7\n"
     ]
    }
   ],
   "source": [
    ">>> student(\"nitu\")                                              #function with ONE argument"
   ]
  },
  {
   "cell_type": "markdown",
   "id": "coordinate-financing",
   "metadata": {},
   "source": [
    "## Keyword Arguments"
   ]
  },
  {
   "cell_type": "raw",
   "id": "ordered-bridal",
   "metadata": {},
   "source": [
    "- Function can also be called using keyword arguments of the form kwarg=value\n",
    "\n",
    "- In a function call, keyword arguments must follow positional arguments.\n",
    "\n",
    "- All the keywords poassed must match one of the arguments accepted by the function and their order is not important.\n",
    "\n",
    "- No argument may receive a value more than once.\n",
    "\n"
   ]
  },
  {
   "cell_type": "code",
   "execution_count": 39,
   "id": "bacterial-saint",
   "metadata": {},
   "outputs": [],
   "source": [
    "def names(a,b,c):\n",
    "    print(a)\n",
    "    print(b)\n",
    "    print(c)"
   ]
  },
  {
   "cell_type": "code",
   "execution_count": 40,
   "id": "ethical-mason",
   "metadata": {},
   "outputs": [
    {
     "name": "stdout",
     "output_type": "stream",
     "text": [
      "Mark\n",
      "Python\n",
      "Coding Blocks\n"
     ]
    }
   ],
   "source": [
    ">>> names(a=\"Mark\",b=\"Python\",c=\"Coding Blocks\")"
   ]
  },
  {
   "cell_type": "markdown",
   "id": "golden-advantage",
   "metadata": {},
   "source": [
    "### The return statement"
   ]
  },
  {
   "cell_type": "markdown",
   "id": "limited-tribute",
   "metadata": {},
   "source": [
    "- A program without the return statement"
   ]
  },
  {
   "cell_type": "code",
   "execution_count": 41,
   "id": "editorial-skill",
   "metadata": {},
   "outputs": [],
   "source": [
    "def add(a,b):\n",
    "    print(a+b)"
   ]
  },
  {
   "cell_type": "code",
   "execution_count": 42,
   "id": "indonesian-occurrence",
   "metadata": {},
   "outputs": [
    {
     "name": "stdout",
     "output_type": "stream",
     "text": [
      "12\n"
     ]
    }
   ],
   "source": [
    ">>> a = add(6,6)"
   ]
  },
  {
   "cell_type": "code",
   "execution_count": 43,
   "id": "extensive-rally",
   "metadata": {},
   "outputs": [
    {
     "name": "stdout",
     "output_type": "stream",
     "text": [
      "None\n"
     ]
    }
   ],
   "source": [
    ">>> print(a)"
   ]
  },
  {
   "cell_type": "markdown",
   "id": "elementary-guest",
   "metadata": {},
   "source": [
    "#### NONE here shows that there is no value that as been assigned to the function.\n",
    "But if we use the return statement, the function will evaluate and return a value to the function."
   ]
  },
  {
   "cell_type": "code",
   "execution_count": 44,
   "id": "impossible-horizontal",
   "metadata": {},
   "outputs": [],
   "source": [
    "def add(a,b):\n",
    "    return(a+b)"
   ]
  },
  {
   "cell_type": "code",
   "execution_count": 45,
   "id": "alive-chassis",
   "metadata": {},
   "outputs": [],
   "source": [
    ">>> a = add(7,7)"
   ]
  },
  {
   "cell_type": "code",
   "execution_count": 46,
   "id": "grave-relationship",
   "metadata": {},
   "outputs": [
    {
     "name": "stdout",
     "output_type": "stream",
     "text": [
      "14\n"
     ]
    }
   ],
   "source": [
    ">>> print(a)"
   ]
  },
  {
   "cell_type": "markdown",
   "id": "turkish-activity",
   "metadata": {},
   "source": [
    "### Global and Local variables"
   ]
  },
  {
   "cell_type": "markdown",
   "id": "stone-render",
   "metadata": {},
   "source": [
    "- The global statement is a declaration which holds for the entire current code block."
   ]
  },
  {
   "cell_type": "code",
   "execution_count": 48,
   "id": "located-theater",
   "metadata": {},
   "outputs": [],
   "source": [
    "x = \"Pizza\"                                                           #Global variable"
   ]
  },
  {
   "cell_type": "code",
   "execution_count": 49,
   "id": "informative-veteran",
   "metadata": {},
   "outputs": [],
   "source": [
    "def food():\n",
    "    print(\"i like\", x)"
   ]
  },
  {
   "cell_type": "code",
   "execution_count": 50,
   "id": "organic-medline",
   "metadata": {},
   "outputs": [
    {
     "name": "stdout",
     "output_type": "stream",
     "text": [
      "i like Pizza\n"
     ]
    }
   ],
   "source": [
    ">>> food()"
   ]
  },
  {
   "cell_type": "markdown",
   "id": "banned-adrian",
   "metadata": {},
   "source": [
    "#### Ex."
   ]
  },
  {
   "cell_type": "code",
   "execution_count": 1,
   "id": "appropriate-mystery",
   "metadata": {},
   "outputs": [],
   "source": [
    "x = \"pizza\"\n",
    "def food():\n",
    "    global x                               # declaration of the global variable in the function\n",
    "    x = \"burgers\"                          # alter\n",
    "    print(\"i like\", x)"
   ]
  },
  {
   "cell_type": "code",
   "execution_count": 2,
   "id": "modern-tomato",
   "metadata": {},
   "outputs": [
    {
     "name": "stdout",
     "output_type": "stream",
     "text": [
      "i like burgers\n"
     ]
    }
   ],
   "source": [
    ">>> food()"
   ]
  },
  {
   "cell_type": "markdown",
   "id": "advanced-success",
   "metadata": {},
   "source": [
    "### Local Variable"
   ]
  },
  {
   "cell_type": "raw",
   "id": "figured-turkey",
   "metadata": {},
   "source": [
    "- The variables which are defined inside a function are treated as local variables.\n",
    "\n",
    "- All the alteration which are done to these variables, has no effect on the variables which are defined outside the function. (even if they have the same names)"
   ]
  },
  {
   "cell_type": "code",
   "execution_count": 4,
   "id": "sufficient-invitation",
   "metadata": {},
   "outputs": [],
   "source": [
    "def places():\n",
    "    print(\"London\")                              #local variable within a function\n",
    "p = \"love for paris\""
   ]
  },
  {
   "cell_type": "code",
   "execution_count": 5,
   "id": "developmental-yield",
   "metadata": {},
   "outputs": [
    {
     "name": "stdout",
     "output_type": "stream",
     "text": [
      "love for paris\n"
     ]
    }
   ],
   "source": [
    ">>> print(p)"
   ]
  },
  {
   "cell_type": "code",
   "execution_count": 6,
   "id": "needed-emphasis",
   "metadata": {},
   "outputs": [
    {
     "name": "stdout",
     "output_type": "stream",
     "text": [
      "London\n"
     ]
    }
   ],
   "source": [
    ">>> places()"
   ]
  },
  {
   "cell_type": "markdown",
   "id": "sixth-relative",
   "metadata": {},
   "source": [
    "#### Ex."
   ]
  },
  {
   "cell_type": "code",
   "execution_count": 9,
   "id": "reserved-theorem",
   "metadata": {},
   "outputs": [],
   "source": [
    "def CB():\n",
    "    global f\n",
    "    print(f)\n",
    "    f = \"Code in Python\"\n",
    "    print(f)\n",
    "    \n",
    "f = \"I am looking for a course in coding blocks!\""
   ]
  },
  {
   "cell_type": "code",
   "execution_count": 11,
   "id": "valid-miniature",
   "metadata": {},
   "outputs": [
    {
     "name": "stdout",
     "output_type": "stream",
     "text": [
      "I am looking for a course in coding blocks!\n",
      "Code in Python\n"
     ]
    }
   ],
   "source": [
    ">>> CB()"
   ]
  },
  {
   "cell_type": "code",
   "execution_count": 12,
   "id": "encouraging-database",
   "metadata": {},
   "outputs": [
    {
     "name": "stdout",
     "output_type": "stream",
     "text": [
      "Code in Python\n"
     ]
    }
   ],
   "source": [
    ">>> print(f)"
   ]
  },
  {
   "cell_type": "raw",
   "id": "related-creek",
   "metadata": {},
   "source": [
    "- Case of enclosures; function can also be nested.\n",
    "\n",
    "- A Closure is a function object that remembers values in enclosing scopes even if they are not present in memory.\n",
    "\n",
    "- A NESTED FUNCTION is a function defined inside another function. It's very important to note that the nested functions can access the variables of the enclosing scope."
   ]
  },
  {
   "cell_type": "code",
   "execution_count": 13,
   "id": "liberal-lyric",
   "metadata": {},
   "outputs": [],
   "source": [
    "def outer():\n",
    "    x = \"local\"\n",
    "    def inner():\n",
    "        print(x)\n",
    "    inner()\n",
    "    print(x)"
   ]
  },
  {
   "cell_type": "code",
   "execution_count": 14,
   "id": "minimal-insider",
   "metadata": {},
   "outputs": [
    {
     "name": "stdout",
     "output_type": "stream",
     "text": [
      "local\n",
      "local\n"
     ]
    }
   ],
   "source": [
    ">>> outer()"
   ]
  },
  {
   "cell_type": "markdown",
   "id": "killing-lebanon",
   "metadata": {},
   "source": [
    "## NonLocal"
   ]
  },
  {
   "cell_type": "raw",
   "id": "pleasant-shuttle",
   "metadata": {},
   "source": [
    "- The nonlocal statement causes the listed identifiers to refer to previously bound variables in the nearest enclosing scope excluding globals.\n",
    "\n",
    "- This is important beacuse the default behaviour for binding is to serach the local namespace first.\n",
    "\n",
    "- The statement allows encapsulated code to rebind variable outside of the local scope besides the global scope.\n"
   ]
  },
  {
   "cell_type": "code",
   "execution_count": 15,
   "id": "blind-caution",
   "metadata": {},
   "outputs": [],
   "source": [
    "def outer():\n",
    "    x = 10\n",
    "    def inner():\n",
    "        nonlocal x\n",
    "        x += 5\n",
    "        print(x)\n",
    "    inner()\n",
    "    print(x)"
   ]
  },
  {
   "cell_type": "code",
   "execution_count": 16,
   "id": "determined-guitar",
   "metadata": {},
   "outputs": [
    {
     "name": "stdout",
     "output_type": "stream",
     "text": [
      "15\n",
      "15\n"
     ]
    }
   ],
   "source": [
    ">>> outer()"
   ]
  },
  {
   "cell_type": "markdown",
   "id": "medium-fifteen",
   "metadata": {},
   "source": [
    "#### Keyword Arguments"
   ]
  },
  {
   "cell_type": "raw",
   "id": "nervous-dragon",
   "metadata": {},
   "source": [
    "- In Python, we can explicitly assign values.\n",
    "\n",
    "- This concept is called as keyword arguments.\n",
    "\n",
    "- They are called using keyword arguments of the form kwarg=value.\n",
    "\n",
    "- In a function call, keyword arguments must follow positional arguments.\n",
    "\n",
    "- All gthe keyword arguments passed must match one of the arguments accepted by the function and their order is not important.\n",
    "\n",
    "- No argument may receive a value more than once.\n"
   ]
  },
  {
   "cell_type": "code",
   "execution_count": 17,
   "id": "fixed-texture",
   "metadata": {},
   "outputs": [],
   "source": [
    "def names(a,b,c):\n",
    "    print(a)\n",
    "    print(b)\n",
    "    print(c)"
   ]
  },
  {
   "cell_type": "markdown",
   "id": "human-chicago",
   "metadata": {},
   "source": [
    ">>> names(c=\"Mark\",a=\"Coding Blocks\",b=\"Python\")                   #a,b,c are the keywords"
   ]
  },
  {
   "cell_type": "markdown",
   "id": "monetary-throat",
   "metadata": {},
   "source": [
    "- Unpacking of Arguments\n",
    "\n",
    "- We use '*' to unpack the list so that all elements of it can be passed as different parameters.\n",
    "\n",
    "- Elements are packed always in a tuple."
   ]
  },
  {
   "cell_type": "code",
   "execution_count": 20,
   "id": "resident-workstation",
   "metadata": {},
   "outputs": [],
   "source": [
    "def netflix(*myFav):\n",
    "    print(myFav)"
   ]
  },
  {
   "cell_type": "code",
   "execution_count": 21,
   "id": "ancient-suggestion",
   "metadata": {},
   "outputs": [
    {
     "name": "stdout",
     "output_type": "stream",
     "text": [
      "('Sherlock', 'The Big Bang Theory', 'How I met your Mother')\n"
     ]
    }
   ],
   "source": [
    ">>> netflix(\"Sherlock\", \"The Big Bang Theory\", \"How I met your Mother\")"
   ]
  },
  {
   "cell_type": "markdown",
   "id": "considered-twelve",
   "metadata": {},
   "source": [
    "##### Unpacking with default arguments"
   ]
  },
  {
   "cell_type": "code",
   "execution_count": 26,
   "id": "individual-worcester",
   "metadata": {},
   "outputs": [],
   "source": [
    "def routine(p,q,r,*s,d=\"coding\", e=\"reading\"):\n",
    "    print(p)\n",
    "    print(q)\n",
    "    print(r)\n",
    "    print(s)\n",
    "    print(d)\n",
    "    print(e)"
   ]
  },
  {
   "cell_type": "code",
   "execution_count": 27,
   "id": "north-blanket",
   "metadata": {},
   "outputs": [
    {
     "name": "stdout",
     "output_type": "stream",
     "text": [
      "wake up\n",
      "breakfast\n",
      "TV\n",
      "('Sherlock', 'The Big Bang Theory', 'How I met your Mother')\n",
      "coding\n",
      "reading\n"
     ]
    }
   ],
   "source": [
    ">>> routine(\"wake up\",\"breakfast\",\"TV\",\"Sherlock\",\"The Big Bang Theory\", \"How I met your Mother\", d=\"coding\", e=\"reading\")"
   ]
  },
  {
   "cell_type": "markdown",
   "id": "affiliated-aging",
   "metadata": {},
   "source": [
    "- Default arguments has to specified beacuse if they will not then they will considered as part of the tuple."
   ]
  },
  {
   "cell_type": "code",
   "execution_count": 28,
   "id": "national-happening",
   "metadata": {},
   "outputs": [],
   "source": [
    "def routine(p,q,r,*s,d=\"coding\", e=\"reading\"):\n",
    "    print(p)\n",
    "    print(q)\n",
    "    print(r)\n",
    "    print(s)\n",
    "    print(d)\n",
    "    print(e)"
   ]
  },
  {
   "cell_type": "code",
   "execution_count": 30,
   "id": "better-heater",
   "metadata": {},
   "outputs": [
    {
     "name": "stdout",
     "output_type": "stream",
     "text": [
      "wake up\n",
      "breakfast\n",
      "TV\n",
      "('Sherlock', 'The Big Bang Theory', 'How I met your Mother', 'coding', 'reading')\n",
      "coding\n",
      "reading\n"
     ]
    }
   ],
   "source": [
    ">>> routine(\"wake up\",\"breakfast\",\"TV\",\"Sherlock\",\"The Big Bang Theory\", \"How I met your Mother\", \"coding\", \"reading\")"
   ]
  },
  {
   "cell_type": "markdown",
   "id": "cubic-genome",
   "metadata": {},
   "source": [
    "### Lambda Function; Syntactic Sugars"
   ]
  },
  {
   "cell_type": "markdown",
   "id": "external-occurrence",
   "metadata": {},
   "source": [
    "Syntax\n",
    "\n",
    "lambda arguments : expression"
   ]
  },
  {
   "cell_type": "raw",
   "id": "communist-parallel",
   "metadata": {},
   "source": [
    "- Arguments will be comma seperated.\n",
    "\n",
    "- Expression will be evaluated and returned.\n",
    "\n",
    "- Lambda function are called just like any other function."
   ]
  },
  {
   "cell_type": "markdown",
   "id": "knowing-makeup",
   "metadata": {},
   "source": [
    "#### Ex."
   ]
  },
  {
   "cell_type": "code",
   "execution_count": 31,
   "id": "norman-marking",
   "metadata": {},
   "outputs": [],
   "source": [
    "add = lambda a,b,c : a+b+c                     #definition"
   ]
  },
  {
   "cell_type": "code",
   "execution_count": 32,
   "id": "regulation-arrival",
   "metadata": {},
   "outputs": [
    {
     "data": {
      "text/plain": [
       "18"
      ]
     },
     "execution_count": 32,
     "metadata": {},
     "output_type": "execute_result"
    }
   ],
   "source": [
    ">>> add(5,6,7)                                 #function call"
   ]
  }
 ],
 "metadata": {
  "kernelspec": {
   "display_name": "Python 3",
   "language": "python",
   "name": "python3"
  },
  "language_info": {
   "codemirror_mode": {
    "name": "ipython",
    "version": 3
   },
   "file_extension": ".py",
   "mimetype": "text/x-python",
   "name": "python",
   "nbconvert_exporter": "python",
   "pygments_lexer": "ipython3",
   "version": "3.9.1"
  }
 },
 "nbformat": 4,
 "nbformat_minor": 5
}
