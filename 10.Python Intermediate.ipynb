{
 "cells": [
  {
   "cell_type": "markdown",
   "id": "biblical-white",
   "metadata": {},
   "source": [
    "## 1.Iteration protocol in Python"
   ]
  },
  {
   "cell_type": "markdown",
   "id": "bizarre-rocket",
   "metadata": {},
   "source": [
    "- Iteration: repetition of a process.\n",
    "- Iterable: a Python object which supports iteration.\n",
    "- Iterator: a Python object to perform iteration over an iterable."
   ]
  },
  {
   "cell_type": "code",
   "execution_count": 1,
   "id": "color-eligibility",
   "metadata": {},
   "outputs": [],
   "source": [
    "x = [1, 2, 3]"
   ]
  },
  {
   "cell_type": "code",
   "execution_count": 4,
   "id": "stunning-hierarchy",
   "metadata": {},
   "outputs": [],
   "source": [
    "x_iter = iter(x)"
   ]
  },
  {
   "cell_type": "code",
   "execution_count": 5,
   "id": "silent-apollo",
   "metadata": {},
   "outputs": [
    {
     "data": {
      "text/plain": [
       "<list_iterator at 0x1869311a730>"
      ]
     },
     "execution_count": 5,
     "metadata": {},
     "output_type": "execute_result"
    }
   ],
   "source": [
    "x_iter"
   ]
  },
  {
   "cell_type": "code",
   "execution_count": 8,
   "id": "patent-former",
   "metadata": {},
   "outputs": [
    {
     "data": {
      "text/plain": [
       "3"
      ]
     },
     "execution_count": 8,
     "metadata": {},
     "output_type": "execute_result"
    }
   ],
   "source": [
    "next(x_iter)"
   ]
  },
  {
   "cell_type": "markdown",
   "id": "dirty-congo",
   "metadata": {},
   "source": [
    "#### Iteration Protocol in Python"
   ]
  },
  {
   "cell_type": "markdown",
   "id": "documentary-notification",
   "metadata": {},
   "source": [
    "The iteration protocol is a fancy term meaning \"how iterables actually work in Python.\".\n",
    "\n",
    "1. For a class object to be an iterable:\n",
    "    \n",
    "    - Can be passed to the iter function to get an iterator for them.\n",
    "    \n",
    "\n",
    "2. For any iterator:\n",
    "    \n",
    "    - Can be passed to the next function which gives their next item or raises Stopiteration.\n",
    "    - Return themselves when passed to the iter function."
   ]
  },
  {
   "cell_type": "code",
   "execution_count": 5,
   "id": "protected-performance",
   "metadata": {},
   "outputs": [],
   "source": [
    "class yrange:\n",
    "# n is the number upto which i want the range   \n",
    "    def __init__ (self, n):\n",
    "        self.i = 0\n",
    "        self.n = n\n",
    "        \n",
    "# this method makes our class iterable        \n",
    "    def __iter__ (self):\n",
    "        return self\n",
    "    \n",
    "#this method should be implemented by the ITERATIOR\n",
    "    def __next__ (self):\n",
    "        if self.i < self.n:\n",
    "            i = self.i\n",
    "            self.i += 1\n",
    "            return i\n",
    "        else:\n",
    "            raise StopIteration()"
   ]
  },
  {
   "cell_type": "code",
   "execution_count": 6,
   "id": "subtle-screening",
   "metadata": {},
   "outputs": [
    {
     "name": "stdout",
     "output_type": "stream",
     "text": [
      "0\n",
      "1\n",
      "2\n",
      "3\n",
      "4\n"
     ]
    }
   ],
   "source": [
    "for x in yrange(5):\n",
    "    print(x)"
   ]
  },
  {
   "cell_type": "code",
   "execution_count": 7,
   "id": "fifty-grill",
   "metadata": {},
   "outputs": [],
   "source": [
    "y = yrange(5)"
   ]
  },
  {
   "cell_type": "code",
   "execution_count": 8,
   "id": "governing-uganda",
   "metadata": {},
   "outputs": [],
   "source": [
    "y_iter = iter(y)"
   ]
  },
  {
   "cell_type": "code",
   "execution_count": 9,
   "id": "mathematical-membrane",
   "metadata": {},
   "outputs": [
    {
     "data": {
      "text/plain": [
       "<__main__.yrange at 0x1ff27eea430>"
      ]
     },
     "execution_count": 9,
     "metadata": {},
     "output_type": "execute_result"
    }
   ],
   "source": [
    "y_iter"
   ]
  },
  {
   "cell_type": "code",
   "execution_count": null,
   "id": "checked-exhibition",
   "metadata": {},
   "outputs": [],
   "source": [
    "next(y_iter)"
   ]
  },
  {
   "cell_type": "code",
   "execution_count": 20,
   "id": "blank-helmet",
   "metadata": {},
   "outputs": [],
   "source": [
    "# This is an iterable class\n",
    "class zrange:\n",
    "    def __init__ (self, n):\n",
    "        self.n = n\n",
    "\n",
    "# This is an iterator class        \n",
    "    def __iter__ (self):\n",
    "        return zrange_iter(self.n)\n",
    "    \n",
    "class zrange_iter:\n",
    "    def __init__ (self, n):\n",
    "        self.i = 0\n",
    "        self.n = n\n",
    "        \n",
    "    def __iter__ (self):\n",
    "        return self\n",
    "    \n",
    "    def __next__ (self):\n",
    "        if self.i < self.n:\n",
    "            i = self.i\n",
    "            self.i += 1\n",
    "            return i\n",
    "        else:\n",
    "            raise StopIteration()"
   ]
  },
  {
   "cell_type": "code",
   "execution_count": 21,
   "id": "silver-conspiracy",
   "metadata": {},
   "outputs": [
    {
     "name": "stdout",
     "output_type": "stream",
     "text": [
      "0\n",
      "1\n",
      "4\n",
      "9\n",
      "16\n"
     ]
    }
   ],
   "source": [
    "for x in zrange(5):\n",
    "    print(x**2)"
   ]
  },
  {
   "cell_type": "code",
   "execution_count": 22,
   "id": "least-canberra",
   "metadata": {},
   "outputs": [],
   "source": [
    "z = zrange(10)"
   ]
  },
  {
   "cell_type": "code",
   "execution_count": 23,
   "id": "civilian-concentration",
   "metadata": {},
   "outputs": [
    {
     "data": {
      "text/plain": [
       "[0, 1, 2, 3, 4, 5, 6, 7, 8, 9]"
      ]
     },
     "execution_count": 23,
     "metadata": {},
     "output_type": "execute_result"
    }
   ],
   "source": [
    "list(z)"
   ]
  },
  {
   "cell_type": "markdown",
   "id": "olympic-reggae",
   "metadata": {},
   "source": [
    "## Iterator"
   ]
  },
  {
   "cell_type": "code",
   "execution_count": 24,
   "id": "paperback-month",
   "metadata": {},
   "outputs": [
    {
     "name": "stdout",
     "output_type": "stream",
     "text": [
      "1\n",
      "2\n",
      "3\n",
      "4\n"
     ]
    }
   ],
   "source": [
    "a = [1, 2, 3, 4]\n",
    "\n",
    "for x in a:\n",
    "# perform some task on each element\n",
    "    print(x)"
   ]
  },
  {
   "cell_type": "code",
   "execution_count": 25,
   "id": "frozen-necklace",
   "metadata": {},
   "outputs": [
    {
     "name": "stdout",
     "output_type": "stream",
     "text": [
      "a\n",
      "b\n",
      "h\n",
      "i\n",
      "s\n",
      "h\n",
      "e\n",
      "k\n"
     ]
    }
   ],
   "source": [
    "name = \"abhishek\"\n",
    "\n",
    "for char in name:\n",
    "    print(char)"
   ]
  },
  {
   "cell_type": "code",
   "execution_count": 26,
   "id": "equivalent-disabled",
   "metadata": {},
   "outputs": [
    {
     "name": "stdout",
     "output_type": "stream",
     "text": [
      "name\n",
      "lastname\n",
      "marks\n"
     ]
    }
   ],
   "source": [
    "d = {\"name\": \"abhishek\", \"lastname\": \"kumar\", \"marks\": 80}\n",
    "\n",
    "for x in d:\n",
    "    print(x)"
   ]
  },
  {
   "cell_type": "code",
   "execution_count": 33,
   "id": "fleet-proof",
   "metadata": {},
   "outputs": [
    {
     "name": "stdout",
     "output_type": "stream",
     "text": [
      "Hello from other side\n"
     ]
    }
   ],
   "source": [
    "for line in open(\"something.txt\", \"r\"):\n",
    "    print(line)"
   ]
  },
  {
   "cell_type": "code",
   "execution_count": 34,
   "id": "incorporate-registration",
   "metadata": {},
   "outputs": [
    {
     "data": {
      "text/plain": [
       "'a.b.c'"
      ]
     },
     "execution_count": 34,
     "metadata": {},
     "output_type": "execute_result"
    }
   ],
   "source": [
    "\".\".join([\"a\", \"b\", \"c\"])"
   ]
  },
  {
   "cell_type": "code",
   "execution_count": 35,
   "id": "center-major",
   "metadata": {},
   "outputs": [
    {
     "data": {
      "text/plain": [
       "'name.lastname.marks'"
      ]
     },
     "execution_count": 35,
     "metadata": {},
     "output_type": "execute_result"
    }
   ],
   "source": [
    "\".\".join(d)"
   ]
  },
  {
   "cell_type": "code",
   "execution_count": 36,
   "id": "dressed-trash",
   "metadata": {},
   "outputs": [],
   "source": [
    "a = list(\"abhishek\")"
   ]
  },
  {
   "cell_type": "code",
   "execution_count": 37,
   "id": "intermediate-hearing",
   "metadata": {},
   "outputs": [
    {
     "data": {
      "text/plain": [
       "['a', 'b', 'h', 'i', 's', 'h', 'e', 'k']"
      ]
     },
     "execution_count": 37,
     "metadata": {},
     "output_type": "execute_result"
    }
   ],
   "source": [
    "a"
   ]
  },
  {
   "cell_type": "code",
   "execution_count": 42,
   "id": "surprising-cradle",
   "metadata": {},
   "outputs": [],
   "source": [
    "a  = [1, 2, 3, 4]"
   ]
  },
  {
   "cell_type": "code",
   "execution_count": 44,
   "id": "composite-synthetic",
   "metadata": {},
   "outputs": [],
   "source": [
    "b  = {1: \"abhishek\", 2: \"kumar\", 3: \"coding blocks\"}"
   ]
  },
  {
   "cell_type": "code",
   "execution_count": 45,
   "id": "continent-knitting",
   "metadata": {},
   "outputs": [
    {
     "data": {
      "text/plain": [
       "6"
      ]
     },
     "execution_count": 45,
     "metadata": {},
     "output_type": "execute_result"
    }
   ],
   "source": [
    "sum(b)"
   ]
  },
  {
   "cell_type": "markdown",
   "id": "reverse-toyota",
   "metadata": {},
   "source": [
    "## 2.Generators"
   ]
  },
  {
   "cell_type": "markdown",
   "id": "british-queue",
   "metadata": {},
   "source": [
    "Simple function or expression used to create iterator.\n",
    "\n",
    "\n",
    "Let's write a function which return the factorial of first 10 natural numbers."
   ]
  },
  {
   "cell_type": "code",
   "execution_count": 50,
   "id": "transparent-validity",
   "metadata": {},
   "outputs": [],
   "source": [
    "class fib:\n",
    "    def __init__ (self):\n",
    "        self.prev = 0\n",
    "        self.curr = 1\n",
    "        \n",
    "    def __iter__ (self):\n",
    "# this class is also an iterator        \n",
    "        return self\n",
    "\n",
    "    def __next__ (self):\n",
    "        value = self.curr\n",
    "        self.curr += self.prev\n",
    "        self.prev = value\n",
    "        return value"
   ]
  },
  {
   "cell_type": "code",
   "execution_count": 51,
   "id": "planned-abortion",
   "metadata": {},
   "outputs": [],
   "source": [
    "f = iter(fib())"
   ]
  },
  {
   "cell_type": "code",
   "execution_count": 55,
   "id": "suitable-prompt",
   "metadata": {},
   "outputs": [
    {
     "data": {
      "text/plain": [
       "3"
      ]
     },
     "execution_count": 55,
     "metadata": {},
     "output_type": "execute_result"
    }
   ],
   "source": [
    "next(f)"
   ]
  },
  {
   "cell_type": "code",
   "execution_count": 63,
   "id": "detected-vacation",
   "metadata": {},
   "outputs": [],
   "source": [
    "#generator function\n",
    "def fib():\n",
    "    prev, curr = 0, 1\n",
    "    while True:\n",
    "        yield curr       \n",
    "        prev, curr = curr, prev + curr"
   ]
  },
  {
   "cell_type": "code",
   "execution_count": 65,
   "id": "gorgeous-branch",
   "metadata": {},
   "outputs": [],
   "source": [
    "gen = fib()"
   ]
  },
  {
   "cell_type": "code",
   "execution_count": 74,
   "id": "invalid-guitar",
   "metadata": {},
   "outputs": [
    {
     "data": {
      "text/plain": [
       "21"
      ]
     },
     "execution_count": 74,
     "metadata": {},
     "output_type": "execute_result"
    }
   ],
   "source": [
    "next(gen)"
   ]
  },
  {
   "cell_type": "markdown",
   "id": "breeding-extraction",
   "metadata": {},
   "source": [
    "### Generator expression"
   ]
  },
  {
   "cell_type": "markdown",
   "id": "worse-sharp",
   "metadata": {},
   "source": [
    "Now let us find gthe sum of square of first 10 natural numbers, but this time, without ny factorial."
   ]
  },
  {
   "cell_type": "code",
   "execution_count": 75,
   "id": "therapeutic-foundation",
   "metadata": {},
   "outputs": [],
   "source": [
    "gen = (x**2 for x in range(1, 11))"
   ]
  },
  {
   "cell_type": "code",
   "execution_count": 80,
   "id": "cubic-punch",
   "metadata": {},
   "outputs": [
    {
     "data": {
      "text/plain": [
       "16"
      ]
     },
     "execution_count": 80,
     "metadata": {},
     "output_type": "execute_result"
    }
   ],
   "source": [
    "next(gen)"
   ]
  }
 ],
 "metadata": {
  "kernelspec": {
   "display_name": "Python 3",
   "language": "python",
   "name": "python3"
  },
  "language_info": {
   "codemirror_mode": {
    "name": "ipython",
    "version": 3
   },
   "file_extension": ".py",
   "mimetype": "text/x-python",
   "name": "python",
   "nbconvert_exporter": "python",
   "pygments_lexer": "ipython3",
   "version": "3.9.1"
  }
 },
 "nbformat": 4,
 "nbformat_minor": 5
}
