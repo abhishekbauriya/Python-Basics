{
 "cells": [
  {
   "cell_type": "markdown",
   "id": "fitting-chain",
   "metadata": {},
   "source": [
    "## Variables, DataTypes and Operators"
   ]
  },
  {
   "cell_type": "markdown",
   "id": "mysterious-river",
   "metadata": {},
   "source": [
    "- A type of identifier\n",
    "\n",
    "- Rules for naming Identifiers\n",
    "\n",
    "    - The first character of the identifier must be a letter of the alphabet (uppercase ASCII or lowercase ASCII or unicode character) or underscore (_).\n",
    "    \n",
    "    - The rest of the identifier name can consist of letters (uppercase ASCII or lowercase ASCII or unicode character), underscores (_) or digits (0-9).\n",
    "    \n",
    "    - Identifiers names are case-sensitive. For ex. myname, myName are not the same. \n",
    "    \n",
    "- Examples of valid identifier names are i, name_2_3.\n",
    "\n",
    "- Examples of invalid identifier names are 2things, this is spaced out, my-name and >a1b2_c3.\n"
   ]
  },
  {
   "cell_type": "markdown",
   "id": "handed-auckland",
   "metadata": {},
   "source": [
    "### Arithmetic Operators (+,-,*,/,//,%)"
   ]
  },
  {
   "cell_type": "code",
   "execution_count": 6,
   "id": "dried-transportation",
   "metadata": {},
   "outputs": [
    {
     "name": "stdout",
     "output_type": "stream",
     "text": [
      "30\n",
      "-10\n",
      "200\n",
      "0.5000\n",
      "0\n",
      "100000000000000000000\n",
      "0\n"
     ]
    }
   ],
   "source": [
    "a = 10\n",
    "b = 20\n",
    "\n",
    "print(a + b)\n",
    "print(a - b)\n",
    "print(a * b)\n",
    "print(\"%0.4f\"%(a/b))   #Precision upto 4 point\n",
    "print(a//b)\n",
    "print(a**b)     #Exponent Power Function\n",
    "print(b%a)      #Modulo function"
   ]
  },
  {
   "cell_type": "markdown",
   "id": "headed-blowing",
   "metadata": {},
   "source": [
    "### Multiple Variable Assignment"
   ]
  },
  {
   "cell_type": "code",
   "execution_count": 3,
   "id": "metropolitan-plastic",
   "metadata": {},
   "outputs": [],
   "source": [
    "a,b,c = 10,20,30.34"
   ]
  },
  {
   "cell_type": "code",
   "execution_count": 4,
   "id": "previous-timber",
   "metadata": {},
   "outputs": [
    {
     "name": "stdout",
     "output_type": "stream",
     "text": [
      "10 20 30.34\n"
     ]
    }
   ],
   "source": [
    "print(a,b,c)"
   ]
  }
 ],
 "metadata": {
  "kernelspec": {
   "display_name": "Python 3",
   "language": "python",
   "name": "python3"
  },
  "language_info": {
   "codemirror_mode": {
    "name": "ipython",
    "version": 3
   },
   "file_extension": ".py",
   "mimetype": "text/x-python",
   "name": "python",
   "nbconvert_exporter": "python",
   "pygments_lexer": "ipython3",
   "version": "3.9.1"
  }
 },
 "nbformat": 4,
 "nbformat_minor": 5
}
