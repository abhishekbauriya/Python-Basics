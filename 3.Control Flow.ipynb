{
 "cells": [
  {
   "cell_type": "markdown",
   "id": "alleged-tracker",
   "metadata": {},
   "source": [
    "### 1.Conditional Statement"
   ]
  },
  {
   "cell_type": "raw",
   "id": "reverse-calculator",
   "metadata": {},
   "source": [
    "if a:\n",
    "    do this\n",
    "elif b:\n",
    "    do that\n",
    "else:\n",
    "    whatever"
   ]
  },
  {
   "cell_type": "code",
   "execution_count": 2,
   "id": "imperial-rhythm",
   "metadata": {},
   "outputs": [
    {
     "name": "stdout",
     "output_type": "stream",
     "text": [
      "Zero\n"
     ]
    }
   ],
   "source": [
    "a = 0\n",
    "\n",
    "if a > 0:\n",
    "    print(\"Positive\")\n",
    "elif a == 0:\n",
    "    print(\"Zero\")\n",
    "else:\n",
    "    print(\"Negative\")"
   ]
  },
  {
   "cell_type": "markdown",
   "id": "cognitive-summit",
   "metadata": {},
   "source": [
    "### Nested if-else"
   ]
  },
  {
   "cell_type": "code",
   "execution_count": 4,
   "id": "flying-senior",
   "metadata": {},
   "outputs": [
    {
     "name": "stdout",
     "output_type": "stream",
     "text": [
      "Positive\n",
      "Divisible by 5\n"
     ]
    }
   ],
   "source": [
    "a = 10\n",
    "if a> 0:\n",
    "    print(\"Positive\")\n",
    "    if a % 5 == 0:\n",
    "        print(\"Divisible by 5\")\n",
    "else:\n",
    "    print(\"Negative\")"
   ]
  },
  {
   "cell_type": "markdown",
   "id": "spatial-attribute",
   "metadata": {},
   "source": [
    "#### Write a python program to input an integer from user and print:\n",
    "- -1 if integer is negative\n",
    "- 0 if integer is zero\n",
    "- 1 if integer is positive\n",
    "\n",
    "What is not cool with this approach ?"
   ]
  },
  {
   "cell_type": "raw",
   "id": "varied-marking",
   "metadata": {},
   "source": [
    "Question:\n",
    "\n",
    "x = 10\n",
    "if x < 0:\n",
    "    sign = -1\n",
    "    \n",
    "if x == 0:\n",
    "    sign = 0\n",
    "    \n",
    "if x > 0:\n",
    "    sign = 1"
   ]
  },
  {
   "cell_type": "code",
   "execution_count": 18,
   "id": "olympic-energy",
   "metadata": {},
   "outputs": [],
   "source": [
    "x = 10\n",
    "if x < 0:\n",
    "    sign = -1\n",
    "elif x == 0:\n",
    "    sign = 0\n",
    "else:\n",
    "    sign = 1"
   ]
  },
  {
   "cell_type": "markdown",
   "id": "potential-watershed",
   "metadata": {},
   "source": [
    "### 2.Looping statements\n",
    "\n",
    "- while: This while statement allows you to repeatedly execute a block of statment as long as a condition is true.\n",
    "\n",
    "- for: The for... in statement is another looping statement which iterates over a sequence of objects i.e. go through each item in a sequence."
   ]
  },
  {
   "cell_type": "markdown",
   "id": "requested-recruitment",
   "metadata": {},
   "source": [
    "#### while"
   ]
  },
  {
   "cell_type": "code",
   "execution_count": 19,
   "id": "least-cooperative",
   "metadata": {},
   "outputs": [
    {
     "name": "stdout",
     "output_type": "stream",
     "text": [
      "10\n",
      "9\n",
      "8\n",
      "7\n",
      "6\n",
      "5\n",
      "4\n",
      "3\n",
      "2\n",
      "1\n"
     ]
    }
   ],
   "source": [
    "a = 10\n",
    "\n",
    "while a > 0:\n",
    "    print(a)\n",
    "    a -= 1"
   ]
  },
  {
   "cell_type": "markdown",
   "id": "crazy-feeling",
   "metadata": {},
   "source": [
    "#### for"
   ]
  },
  {
   "cell_type": "code",
   "execution_count": 21,
   "id": "excited-window",
   "metadata": {},
   "outputs": [
    {
     "name": "stdout",
     "output_type": "stream",
     "text": [
      "p\n",
      "y\n",
      "t\n",
      "h\n",
      "o\n",
      "n\n"
     ]
    }
   ],
   "source": [
    " for i in \"python\":\n",
    "        print(i)"
   ]
  },
  {
   "cell_type": "markdown",
   "id": "advance-cooler",
   "metadata": {},
   "source": [
    "#### range"
   ]
  },
  {
   "cell_type": "code",
   "execution_count": 22,
   "id": "existing-norwegian",
   "metadata": {},
   "outputs": [
    {
     "name": "stdout",
     "output_type": "stream",
     "text": [
      "0\n",
      "1\n",
      "2\n",
      "3\n",
      "4\n"
     ]
    }
   ],
   "source": [
    "for i in range(5):\n",
    "    print(i)"
   ]
  },
  {
   "cell_type": "code",
   "execution_count": 23,
   "id": "approved-amendment",
   "metadata": {},
   "outputs": [
    {
     "name": "stdout",
     "output_type": "stream",
     "text": [
      "2\n",
      "3\n",
      "4\n",
      "5\n",
      "6\n",
      "7\n",
      "8\n",
      "9\n"
     ]
    }
   ],
   "source": [
    "for i in range(2, 10):\n",
    "    print(i)"
   ]
  },
  {
   "cell_type": "code",
   "execution_count": 25,
   "id": "aquatic-platform",
   "metadata": {},
   "outputs": [
    {
     "name": "stdout",
     "output_type": "stream",
     "text": [
      "1\n",
      "3\n",
      "5\n",
      "7\n",
      "9\n"
     ]
    }
   ],
   "source": [
    "for i in range(1, 11, 2):\n",
    "    print(i)\n",
    "\n",
    "# Where 2 is jump of alternate numbers"
   ]
  }
 ],
 "metadata": {
  "kernelspec": {
   "display_name": "Python 3",
   "language": "python",
   "name": "python3"
  },
  "language_info": {
   "codemirror_mode": {
    "name": "ipython",
    "version": 3
   },
   "file_extension": ".py",
   "mimetype": "text/x-python",
   "name": "python",
   "nbconvert_exporter": "python",
   "pygments_lexer": "ipython3",
   "version": "3.9.1"
  }
 },
 "nbformat": 4,
 "nbformat_minor": 5
}
