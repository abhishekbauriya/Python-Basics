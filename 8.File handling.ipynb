{
 "cells": [
  {
   "cell_type": "markdown",
   "id": "leading-prison",
   "metadata": {},
   "source": [
    "## File Access Modes"
   ]
  },
  {
   "cell_type": "markdown",
   "id": "dental-shooting",
   "metadata": {},
   "source": [
    "Access modes govern the type of operations possible in the opened file. It refers to how the file will be used once its opened. These modes also define the location of the File Handle in the file. FIle handle is like cursor, which defines from where the data has to be read and written in the file. There are 6 modes in python. "
   ]
  },
  {
   "cell_type": "markdown",
   "id": "incoming-technician",
   "metadata": {},
   "source": [
    "- Read only ('r'): Open text file for reading. The handle is positioned at the begining of the file. If the file does not exists, raises I/O error. This is also the default mode in which file is opened.\n",
    "\n",
    "\n",
    "- Read and WRite ('r+'): Open the file for reading and writing. The hadle is positioned at the beginning of the file. Raises I/O error if the file does not exists.\n",
    "\n",
    "\n",
    "- Write Only ('w'): Open the file for writing. For existing file, the data is trncated and over written. The hyandle is positioned at the beginning of the file. Creates the file if the file does not exists.\n",
    "\n",
    "\n",
    "- Write and Read ('w+'): Open the file for reading and writing. For existing file, data is truncated and over-written. The handle is positioned at the beginning of the file.\n",
    "\n",
    "\n",
    "- Append Only ('a'): Open the file for writing. The file is created if it does not exist. The handle is positioned at the end of the file. The data being written will be inserted at the end, after the existing data.\n",
    "\n",
    "\n",
    "- Append and Read ('a+'): Open the file for reading and writing. The file is created if it does not exist. The handle is positioned at the end of the file. The data being written will be inserted at the end, after the existing data."
   ]
  },
  {
   "cell_type": "markdown",
   "id": "generic-stroke",
   "metadata": {},
   "source": [
    "## 1. Text Files"
   ]
  },
  {
   "cell_type": "markdown",
   "id": "baking-glossary",
   "metadata": {},
   "source": [
    "### Opening a file"
   ]
  },
  {
   "cell_type": "code",
   "execution_count": 1,
   "id": "surgical-contemporary",
   "metadata": {},
   "outputs": [],
   "source": [
    "file = open(\"hello.txt\", \"r\")"
   ]
  },
  {
   "cell_type": "code",
   "execution_count": 2,
   "id": "parental-hepatitis",
   "metadata": {},
   "outputs": [
    {
     "data": {
      "text/plain": [
       "'Hello World!!!!'"
      ]
     },
     "execution_count": 2,
     "metadata": {},
     "output_type": "execute_result"
    }
   ],
   "source": [
    "file.read()"
   ]
  },
  {
   "cell_type": "markdown",
   "id": "lesser-queen",
   "metadata": {},
   "source": [
    "### Closing a file"
   ]
  },
  {
   "cell_type": "code",
   "execution_count": 3,
   "id": "second-corrections",
   "metadata": {},
   "outputs": [],
   "source": [
    "file.close()"
   ]
  },
  {
   "cell_type": "markdown",
   "id": "divided-automation",
   "metadata": {},
   "source": [
    "### Writing to a file"
   ]
  },
  {
   "cell_type": "markdown",
   "id": "broke-amber",
   "metadata": {},
   "source": [
    "- write\n",
    "- writelines"
   ]
  },
  {
   "cell_type": "code",
   "execution_count": 4,
   "id": "expected-intervention",
   "metadata": {},
   "outputs": [],
   "source": [
    "file = open(\"something.txt\", \"w\")"
   ]
  },
  {
   "cell_type": "code",
   "execution_count": 5,
   "id": "intermediate-dialogue",
   "metadata": {},
   "outputs": [
    {
     "data": {
      "text/plain": [
       "21"
      ]
     },
     "execution_count": 5,
     "metadata": {},
     "output_type": "execute_result"
    }
   ],
   "source": [
    "file.write(\"Hello from other side\")"
   ]
  },
  {
   "cell_type": "code",
   "execution_count": 6,
   "id": "verbal-intersection",
   "metadata": {},
   "outputs": [],
   "source": [
    "file.close()"
   ]
  },
  {
   "cell_type": "markdown",
   "id": "incorporated-alexandria",
   "metadata": {},
   "source": [
    "### Reading from a file"
   ]
  },
  {
   "cell_type": "markdown",
   "id": "smart-interstate",
   "metadata": {},
   "source": [
    "- read\n",
    "- readline\n",
    "- readlines"
   ]
  },
  {
   "cell_type": "code",
   "execution_count": 9,
   "id": "adequate-level",
   "metadata": {},
   "outputs": [],
   "source": [
    "file = open(\"hello.txt\", \"r\")"
   ]
  },
  {
   "cell_type": "code",
   "execution_count": 12,
   "id": "bibliographic-softball",
   "metadata": {},
   "outputs": [
    {
     "data": {
      "text/plain": [
       "[]"
      ]
     },
     "execution_count": 12,
     "metadata": {},
     "output_type": "execute_result"
    }
   ],
   "source": [
    "file.readlines()"
   ]
  },
  {
   "cell_type": "code",
   "execution_count": 13,
   "id": "nervous-french",
   "metadata": {},
   "outputs": [],
   "source": [
    "file.close()"
   ]
  },
  {
   "cell_type": "markdown",
   "id": "several-phenomenon",
   "metadata": {},
   "source": [
    "### Moving the cursor"
   ]
  },
  {
   "cell_type": "markdown",
   "id": "muslim-august",
   "metadata": {},
   "source": [
    "= seek(n): takes the file handle to the nth byte from the beginning."
   ]
  },
  {
   "cell_type": "code",
   "execution_count": 14,
   "id": "inappropriate-literacy",
   "metadata": {},
   "outputs": [],
   "source": [
    "file = open(\"hello.txt\", \"r\")"
   ]
  },
  {
   "cell_type": "code",
   "execution_count": 15,
   "id": "mineral-ambassador",
   "metadata": {},
   "outputs": [
    {
     "data": {
      "text/plain": [
       "'Hello'"
      ]
     },
     "execution_count": 15,
     "metadata": {},
     "output_type": "execute_result"
    }
   ],
   "source": [
    "file.read(5)"
   ]
  },
  {
   "cell_type": "code",
   "execution_count": 16,
   "id": "bigger-siemens",
   "metadata": {},
   "outputs": [
    {
     "data": {
      "text/plain": [
       "' World!!!!'"
      ]
     },
     "execution_count": 16,
     "metadata": {},
     "output_type": "execute_result"
    }
   ],
   "source": [
    "file.read()"
   ]
  },
  {
   "cell_type": "code",
   "execution_count": 17,
   "id": "dated-thursday",
   "metadata": {},
   "outputs": [
    {
     "data": {
      "text/plain": [
       "''"
      ]
     },
     "execution_count": 17,
     "metadata": {},
     "output_type": "execute_result"
    }
   ],
   "source": [
    "file.read()"
   ]
  },
  {
   "cell_type": "code",
   "execution_count": 18,
   "id": "several-fairy",
   "metadata": {},
   "outputs": [
    {
     "data": {
      "text/plain": [
       "0"
      ]
     },
     "execution_count": 18,
     "metadata": {},
     "output_type": "execute_result"
    }
   ],
   "source": [
    "file.seek(0)"
   ]
  },
  {
   "cell_type": "code",
   "execution_count": 19,
   "id": "baking-thickness",
   "metadata": {},
   "outputs": [
    {
     "data": {
      "text/plain": [
       "'Hello World!!!!'"
      ]
     },
     "execution_count": 19,
     "metadata": {},
     "output_type": "execute_result"
    }
   ],
   "source": [
    "file.read()"
   ]
  },
  {
   "cell_type": "code",
   "execution_count": 20,
   "id": "informal-driving",
   "metadata": {},
   "outputs": [],
   "source": [
    "file.close()"
   ]
  },
  {
   "cell_type": "markdown",
   "id": "binding-following",
   "metadata": {},
   "source": [
    "### Smarter way to opening files..."
   ]
  },
  {
   "cell_type": "markdown",
   "id": "therapeutic-roads",
   "metadata": {},
   "source": [
    "With the \"with statement\", you get better syntax and exception handling.\n",
    "\n",
    "\n",
    "\"The with statement simplifies exception handling by encapsulating common preparation and cleanup tasks.\"\n",
    "\n",
    "\n",
    "In addition, it will automatically close the file. The with statement provides a way for ensuring that a clean-up is always used."
   ]
  },
  {
   "cell_type": "code",
   "execution_count": 22,
   "id": "norman-amateur",
   "metadata": {},
   "outputs": [
    {
     "name": "stdout",
     "output_type": "stream",
     "text": [
      "Hello World!!!!\n",
      "o World!!!!\n"
     ]
    },
    {
     "ename": "ValueError",
     "evalue": "I/O operation on closed file.",
     "output_type": "error",
     "traceback": [
      "\u001b[1;31m---------------------------------------------------------------------------\u001b[0m",
      "\u001b[1;31mValueError\u001b[0m                                Traceback (most recent call last)",
      "\u001b[1;32m<ipython-input-22-1922504613f2>\u001b[0m in \u001b[0;36m<module>\u001b[1;34m\u001b[0m\n\u001b[0;32m      3\u001b[0m     \u001b[0mfile\u001b[0m\u001b[1;33m.\u001b[0m\u001b[0mseek\u001b[0m\u001b[1;33m(\u001b[0m\u001b[1;36m4\u001b[0m\u001b[1;33m)\u001b[0m\u001b[1;33m\u001b[0m\u001b[1;33m\u001b[0m\u001b[0m\n\u001b[0;32m      4\u001b[0m     \u001b[0mprint\u001b[0m\u001b[1;33m(\u001b[0m\u001b[0mfile\u001b[0m\u001b[1;33m.\u001b[0m\u001b[0mread\u001b[0m\u001b[1;33m(\u001b[0m\u001b[1;33m)\u001b[0m\u001b[1;33m)\u001b[0m\u001b[1;33m\u001b[0m\u001b[1;33m\u001b[0m\u001b[0m\n\u001b[1;32m----> 5\u001b[1;33m \u001b[0mfile\u001b[0m\u001b[1;33m.\u001b[0m\u001b[0mread\u001b[0m\u001b[1;33m(\u001b[0m\u001b[1;33m)\u001b[0m\u001b[1;33m\u001b[0m\u001b[1;33m\u001b[0m\u001b[0m\n\u001b[0m",
      "\u001b[1;31mValueError\u001b[0m: I/O operation on closed file."
     ]
    }
   ],
   "source": [
    "with open(\"hello.txt\", \"r\") as file:\n",
    "    print(file.read())\n",
    "    file.seek(4)\n",
    "    print(file.read())\n",
    "file.read()"
   ]
  },
  {
   "cell_type": "markdown",
   "id": "declared-birmingham",
   "metadata": {},
   "source": [
    "## 2.JSON files"
   ]
  },
  {
   "cell_type": "markdown",
   "id": "informal-blanket",
   "metadata": {},
   "source": [
    "Javascript Object Notation abbreviated as JSON is a light-weight data interchange format. It Encode Python objects as JSON strings, and decode JSON strings into Python objects."
   ]
  },
  {
   "cell_type": "markdown",
   "id": "blond-portuguese",
   "metadata": {},
   "source": [
    "- json.dump(obj,fileObj): Serializes obj as a JSON formatted stream to fileObj.\n",
    "\n",
    "    \n",
    "- json.dumps(obj): Serializes obj as JSON formatted string.\n",
    "\n",
    "    \n",
    "- json.load(JSONfile): De-serializes  JSONfile to a python object.\n",
    "\n",
    "    \n",
    "- json.loads(JSONfile): De-serializes JSONfile(type:string) to a Python object."
   ]
  },
  {
   "cell_type": "code",
   "execution_count": 24,
   "id": "contained-opening",
   "metadata": {},
   "outputs": [],
   "source": [
    "import json"
   ]
  },
  {
   "cell_type": "code",
   "execution_count": 25,
   "id": "charged-purpose",
   "metadata": {},
   "outputs": [
    {
     "name": "stdout",
     "output_type": "stream",
     "text": [
      "{\n",
      "    \"name\": \"abhishek\",\n",
      "    \"marks\": 90,\n",
      "    \"subjects\": [\"eng\", \"maths\"]\n",
      "}\n"
     ]
    }
   ],
   "source": [
    "with open(\"data.json\", \"r\") as file:\n",
    "    print(file.read())"
   ]
  },
  {
   "cell_type": "code",
   "execution_count": null,
   "id": "excellent-chapter",
   "metadata": {},
   "outputs": [],
   "source": []
  },
  {
   "cell_type": "code",
   "execution_count": 26,
   "id": "animated-picking",
   "metadata": {},
   "outputs": [],
   "source": [
    "import json"
   ]
  },
  {
   "cell_type": "code",
   "execution_count": 27,
   "id": "civil-surname",
   "metadata": {},
   "outputs": [
    {
     "name": "stdout",
     "output_type": "stream",
     "text": [
      "{'name': 'abhishek', 'marks': 90, 'subjects': ['eng', 'maths']}\n"
     ]
    }
   ],
   "source": [
    "with open(\"data.json\", \"r\") as file:\n",
    "    d = json.load(file)\n",
    "    print(d)"
   ]
  },
  {
   "cell_type": "code",
   "execution_count": null,
   "id": "numerical-analysis",
   "metadata": {},
   "outputs": [],
   "source": []
  },
  {
   "cell_type": "code",
   "execution_count": 28,
   "id": "dried-quality",
   "metadata": {},
   "outputs": [],
   "source": [
    "import json"
   ]
  },
  {
   "cell_type": "code",
   "execution_count": 31,
   "id": "optional-revision",
   "metadata": {},
   "outputs": [
    {
     "name": "stdout",
     "output_type": "stream",
     "text": [
      "abhishek\n",
      "90\n",
      "maths\n"
     ]
    }
   ],
   "source": [
    "with open(\"data.json\", \"r\") as file:\n",
    "    d = json.load(file)\n",
    "    print(d[\"name\"])\n",
    "    print(d[\"marks\"])\n",
    "    print(d[\"subjects\"][1])"
   ]
  },
  {
   "cell_type": "code",
   "execution_count": null,
   "id": "median-thriller",
   "metadata": {},
   "outputs": [],
   "source": []
  },
  {
   "cell_type": "code",
   "execution_count": 34,
   "id": "communist-wyoming",
   "metadata": {},
   "outputs": [
    {
     "name": "stdout",
     "output_type": "stream",
     "text": [
      "{\n",
      "    \"name\": \"abhishek\",\n",
      "    \"marks\": 90,\n",
      "    \"subjects\": [\"eng\", \"maths\"]\n",
      "}\n",
      "{'name': 'abhishek', 'marks': 90, 'subjects': ['eng', 'maths']}\n"
     ]
    }
   ],
   "source": [
    "with open(\"data.json\", \"r\") as file:\n",
    "    data = file.read()\n",
    "    print(data)\n",
    "    d = json.loads(data)\n",
    "    print(d)"
   ]
  },
  {
   "cell_type": "code",
   "execution_count": null,
   "id": "sought-louisville",
   "metadata": {},
   "outputs": [],
   "source": []
  },
  {
   "cell_type": "code",
   "execution_count": 35,
   "id": "helpful-economics",
   "metadata": {},
   "outputs": [],
   "source": [
    "d = {'name': 'abhishek', 'marks': 90, 'subjects': ['eng', 'maths']}"
   ]
  },
  {
   "cell_type": "code",
   "execution_count": 36,
   "id": "secure-freeware",
   "metadata": {},
   "outputs": [
    {
     "data": {
      "text/plain": [
       "'abhishek'"
      ]
     },
     "execution_count": 36,
     "metadata": {},
     "output_type": "execute_result"
    }
   ],
   "source": [
    "d[\"name\"]"
   ]
  },
  {
   "cell_type": "code",
   "execution_count": 37,
   "id": "native-asian",
   "metadata": {},
   "outputs": [],
   "source": [
    "string = json.dumps(d)"
   ]
  },
  {
   "cell_type": "code",
   "execution_count": 38,
   "id": "every-blend",
   "metadata": {},
   "outputs": [
    {
     "name": "stdout",
     "output_type": "stream",
     "text": [
      "<class 'str'>\n"
     ]
    }
   ],
   "source": [
    "print(type(string))"
   ]
  },
  {
   "cell_type": "code",
   "execution_count": null,
   "id": "fuzzy-spiritual",
   "metadata": {},
   "outputs": [],
   "source": []
  },
  {
   "cell_type": "code",
   "execution_count": 40,
   "id": "dynamic-weapon",
   "metadata": {},
   "outputs": [],
   "source": [
    "with open(\"data2.json\", \"w\") as file:\n",
    "    json.dump(d, file)"
   ]
  }
 ],
 "metadata": {
  "kernelspec": {
   "display_name": "Python 3",
   "language": "python",
   "name": "python3"
  },
  "language_info": {
   "codemirror_mode": {
    "name": "ipython",
    "version": 3
   },
   "file_extension": ".py",
   "mimetype": "text/x-python",
   "name": "python",
   "nbconvert_exporter": "python",
   "pygments_lexer": "ipython3",
   "version": "3.9.1"
  }
 },
 "nbformat": 4,
 "nbformat_minor": 5
}
