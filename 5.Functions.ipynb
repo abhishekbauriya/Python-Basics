{
 "cells": [
  {
   "cell_type": "raw",
   "id": "historical-notebook",
   "metadata": {},
   "source": [
    "# print sheldon knock\n",
    "print(\"knock knock knock abhishek\")\n",
    "print(\"knock knock knock abhishek\")\n",
    "print(\"knock knock knock abhishek\")\n",
    "\n",
    "print(10 + 20)\n",
    "for i in range(10):\n",
    "    print(i)\n",
    "\n",
    "# print sheldon knock\n",
    "print(\"knock knock knock abhishek\")\n",
    "print(\"knock knock knock abhishek\")\n",
    "print(\"knock knock knock abhishek\")"
   ]
  },
  {
   "cell_type": "code",
   "execution_count": 6,
   "id": "greenhouse-system",
   "metadata": {},
   "outputs": [],
   "source": [
    "def sheldon_knock():\n",
    "    print(\"knock knock knock abhishek\")\n",
    "    print(\"knock knock knock abhishek\")\n",
    "    print(\"knock knock knock abhishek\")"
   ]
  },
  {
   "cell_type": "code",
   "execution_count": 11,
   "id": "sealed-spanking",
   "metadata": {},
   "outputs": [
    {
     "name": "stdout",
     "output_type": "stream",
     "text": [
      "knock knock knock abhishek\n",
      "knock knock knock abhishek\n",
      "knock knock knock abhishek\n",
      "30\n",
      "0\n",
      "1\n",
      "2\n",
      "3\n",
      "4\n",
      "5\n",
      "6\n",
      "7\n",
      "8\n",
      "9\n",
      "knock knock knock abhishek\n",
      "knock knock knock abhishek\n",
      "knock knock knock abhishek\n"
     ]
    }
   ],
   "source": [
    "sheldon_knock()\n",
    "print(10 + 20)\n",
    "for i in range(10):\n",
    "    print(i)\n",
    "    \n",
    "sheldon_knock()"
   ]
  },
  {
   "cell_type": "markdown",
   "id": "governmental-south",
   "metadata": {},
   "source": [
    "#### Functions can take parameters"
   ]
  },
  {
   "cell_type": "code",
   "execution_count": 22,
   "id": "internal-workstation",
   "metadata": {},
   "outputs": [],
   "source": [
    "def sheldon_knock(name, number_of_time = 3):\n",
    "    for i in range(number_of_time):\n",
    "        print(\"knock knock knock {}\".format(name))"
   ]
  },
  {
   "cell_type": "code",
   "execution_count": 24,
   "id": "different-accordance",
   "metadata": {},
   "outputs": [
    {
     "name": "stdout",
     "output_type": "stream",
     "text": [
      "knock knock knock penny\n",
      "knock knock knock penny\n",
      "knock knock knock penny\n",
      "knock knock knock penny\n",
      "knock knock knock penny\n",
      "knock knock knock penny\n",
      "knock knock knock penny\n",
      "knock knock knock penny\n",
      "knock knock knock penny\n",
      "knock knock knock penny\n"
     ]
    }
   ],
   "source": [
    "sheldon_knock(\"penny\", 10)"
   ]
  },
  {
   "cell_type": "markdown",
   "id": "handed-engine",
   "metadata": {},
   "source": [
    "#### return statement"
   ]
  },
  {
   "cell_type": "code",
   "execution_count": 29,
   "id": "skilled-hunger",
   "metadata": {},
   "outputs": [],
   "source": [
    "def add(a, b):\n",
    "    return(a + b)"
   ]
  },
  {
   "cell_type": "code",
   "execution_count": 30,
   "id": "olympic-gather",
   "metadata": {},
   "outputs": [],
   "source": [
    "x = add(1, 2)"
   ]
  },
  {
   "cell_type": "code",
   "execution_count": 31,
   "id": "latest-bracket",
   "metadata": {},
   "outputs": [
    {
     "name": "stdout",
     "output_type": "stream",
     "text": [
      "3\n"
     ]
    }
   ],
   "source": [
    "print(x)"
   ]
  },
  {
   "cell_type": "code",
   "execution_count": 38,
   "id": "moderate-throat",
   "metadata": {},
   "outputs": [],
   "source": [
    "def div(a, b):\n",
    "    try:\n",
    "        return a/b\n",
    "    except:\n",
    "        print('Error')\n",
    "    finally:\n",
    "        print('Wrapping Up')\n",
    "        return 10"
   ]
  },
  {
   "cell_type": "code",
   "execution_count": 39,
   "id": "downtown-bobby",
   "metadata": {},
   "outputs": [
    {
     "name": "stdout",
     "output_type": "stream",
     "text": [
      "Wrapping Up\n"
     ]
    },
    {
     "data": {
      "text/plain": [
       "10"
      ]
     },
     "execution_count": 39,
     "metadata": {},
     "output_type": "execute_result"
    }
   ],
   "source": [
    "div(10, 1)"
   ]
  },
  {
   "cell_type": "markdown",
   "id": "satisfied-account",
   "metadata": {},
   "source": [
    "#### Local and global variables"
   ]
  },
  {
   "cell_type": "code",
   "execution_count": 63,
   "id": "crude-principle",
   "metadata": {},
   "outputs": [],
   "source": [
    "x = 10\n",
    "def show():\n",
    "    y = \"local\"\n",
    "    print(x)\n",
    "    print(y)"
   ]
  },
  {
   "cell_type": "code",
   "execution_count": 68,
   "id": "rough-delta",
   "metadata": {},
   "outputs": [],
   "source": [
    "del x"
   ]
  },
  {
   "cell_type": "code",
   "execution_count": 72,
   "id": "incorrect-tuition",
   "metadata": {},
   "outputs": [],
   "source": [
    "#enclousers\n",
    "\n",
    "def outer():\n",
    "    x = 10\n",
    "    \n",
    "    def inner():\n",
    "        nonlocal x\n",
    "        x += 5\n",
    "        print(x)\n",
    "    \n",
    "    inner()\n",
    "    print(x)"
   ]
  },
  {
   "cell_type": "code",
   "execution_count": 73,
   "id": "sorted-salmon",
   "metadata": {},
   "outputs": [
    {
     "name": "stdout",
     "output_type": "stream",
     "text": [
      "15\n",
      "15\n"
     ]
    }
   ],
   "source": [
    "outer()"
   ]
  },
  {
   "cell_type": "code",
   "execution_count": null,
   "id": "further-pickup",
   "metadata": {},
   "outputs": [],
   "source": [
    "show()\n",
    "print(x)\n",
    "print(y)"
   ]
  },
  {
   "cell_type": "markdown",
   "id": "brown-combine",
   "metadata": {},
   "source": [
    "#### Default argument values"
   ]
  },
  {
   "cell_type": "code",
   "execution_count": null,
   "id": "peaceful-happening",
   "metadata": {},
   "outputs": [],
   "source": [
    "def abc(a, b, c, d = 10, e = 20)"
   ]
  },
  {
   "cell_type": "code",
   "execution_count": 80,
   "id": "joined-universal",
   "metadata": {},
   "outputs": [],
   "source": [
    "def show(a, b, c, d = \"something\", e = \"something more\"):\n",
    "    print(a)\n",
    "    print(b)\n",
    "    print(c)\n",
    "    print(d)\n",
    "    print(e)"
   ]
  },
  {
   "cell_type": "code",
   "execution_count": 83,
   "id": "satellite-costume",
   "metadata": {},
   "outputs": [],
   "source": [
    "print?"
   ]
  },
  {
   "cell_type": "code",
   "execution_count": 82,
   "id": "muslim-doctor",
   "metadata": {},
   "outputs": [
    {
     "name": "stdout",
     "output_type": "stream",
     "text": [
      "hello\n",
      "world\n",
      "python\n",
      "something\n",
      "abhishek\n"
     ]
    }
   ],
   "source": [
    "show(\"hello\", \"world\", \"python\", e =\"abhishek\")"
   ]
  },
  {
   "cell_type": "code",
   "execution_count": null,
   "id": "terminal-bleeding",
   "metadata": {},
   "outputs": [],
   "source": []
  },
  {
   "cell_type": "code",
   "execution_count": 84,
   "id": "particular-judge",
   "metadata": {},
   "outputs": [
    {
     "name": "stdout",
     "output_type": "stream",
     "text": [
      "abhishek kumar is python mentor\n"
     ]
    }
   ],
   "source": [
    "print(\"abhishek\", \"kumar\", \"is\", \"python\", \"mentor\")"
   ]
  },
  {
   "cell_type": "code",
   "execution_count": 88,
   "id": "current-spoke",
   "metadata": {},
   "outputs": [],
   "source": [
    "def show(a, b, c, *args):\n",
    "    print(args)"
   ]
  },
  {
   "cell_type": "code",
   "execution_count": 90,
   "id": "retained-porter",
   "metadata": {},
   "outputs": [
    {
     "name": "stdout",
     "output_type": "stream",
     "text": [
      "('abhishek',)\n"
     ]
    }
   ],
   "source": [
    "show(1, 2, 3, \"abhishek\")"
   ]
  },
  {
   "cell_type": "code",
   "execution_count": null,
   "id": "endangered-neutral",
   "metadata": {},
   "outputs": [],
   "source": []
  },
  {
   "cell_type": "code",
   "execution_count": 101,
   "id": "proof-physiology",
   "metadata": {},
   "outputs": [],
   "source": [
    "def show(a, b, c, *args, d = 10, e = 20, **kwargs):\n",
    "    print(a)\n",
    "    print(args)\n",
    "    print(d)\n",
    "    print(e)\n",
    "    print(kwargs)"
   ]
  },
  {
   "cell_type": "code",
   "execution_count": 102,
   "id": "latter-coordination",
   "metadata": {},
   "outputs": [
    {
     "name": "stdout",
     "output_type": "stream",
     "text": [
      "1\n",
      "('abhishek', 'kumar')\n",
      "100\n",
      "20\n",
      "{'name': 'abhishek'}\n"
     ]
    }
   ],
   "source": [
    "show(1, 2, 3, \"abhishek\", \"kumar\", d = 100, name = \"abhishek\")"
   ]
  },
  {
   "cell_type": "markdown",
   "id": "palestinian-football",
   "metadata": {},
   "source": [
    "### Lambda Functions\n",
    "Syntactical Sugar"
   ]
  },
  {
   "cell_type": "code",
   "execution_count": 103,
   "id": "italian-pride",
   "metadata": {},
   "outputs": [],
   "source": [
    "def add():\n",
    "    return 10+10"
   ]
  },
  {
   "cell_type": "code",
   "execution_count": 104,
   "id": "superb-living",
   "metadata": {},
   "outputs": [
    {
     "name": "stdout",
     "output_type": "stream",
     "text": [
      "<function add at 0x000001D8D86EBB80>\n"
     ]
    }
   ],
   "source": [
    "print(add)"
   ]
  },
  {
   "cell_type": "code",
   "execution_count": 105,
   "id": "cloudy-consequence",
   "metadata": {},
   "outputs": [],
   "source": [
    "add = 10"
   ]
  },
  {
   "cell_type": "code",
   "execution_count": 106,
   "id": "supposed-virtue",
   "metadata": {},
   "outputs": [
    {
     "name": "stdout",
     "output_type": "stream",
     "text": [
      "10\n"
     ]
    }
   ],
   "source": [
    "print(add)"
   ]
  },
  {
   "cell_type": "code",
   "execution_count": null,
   "id": "personalized-orbit",
   "metadata": {},
   "outputs": [],
   "source": []
  },
  {
   "cell_type": "code",
   "execution_count": 107,
   "id": "together-general",
   "metadata": {},
   "outputs": [],
   "source": [
    "def add(a, b):\n",
    "    return a+b"
   ]
  },
  {
   "cell_type": "code",
   "execution_count": 109,
   "id": "fuzzy-duration",
   "metadata": {},
   "outputs": [],
   "source": [
    "add = lambda a, b: a+b"
   ]
  },
  {
   "cell_type": "code",
   "execution_count": 111,
   "id": "mathematical-ireland",
   "metadata": {},
   "outputs": [
    {
     "data": {
      "text/plain": [
       "3"
      ]
     },
     "execution_count": 111,
     "metadata": {},
     "output_type": "execute_result"
    }
   ],
   "source": [
    "add(1, 2)"
   ]
  },
  {
   "cell_type": "code",
   "execution_count": null,
   "id": "comfortable-pencil",
   "metadata": {},
   "outputs": [],
   "source": []
  },
  {
   "cell_type": "code",
   "execution_count": 112,
   "id": "herbal-professional",
   "metadata": {},
   "outputs": [],
   "source": [
    "a = [5, 3, 7, 9, 1, 2, 3]"
   ]
  },
  {
   "cell_type": "code",
   "execution_count": 113,
   "id": "uniform-arthur",
   "metadata": {},
   "outputs": [
    {
     "data": {
      "text/plain": [
       "[1, 2, 3, 3, 5, 7, 9]"
      ]
     },
     "execution_count": 113,
     "metadata": {},
     "output_type": "execute_result"
    }
   ],
   "source": [
    "sorted(a)"
   ]
  },
  {
   "cell_type": "code",
   "execution_count": null,
   "id": "suspended-chinese",
   "metadata": {},
   "outputs": [],
   "source": []
  },
  {
   "cell_type": "code",
   "execution_count": 114,
   "id": "dedicated-carrier",
   "metadata": {},
   "outputs": [],
   "source": [
    "a = [(\"abhishek\", 5), (\"kumar\", 10), (\"ram\", 1), (\"bheru\", 20)]"
   ]
  },
  {
   "cell_type": "code",
   "execution_count": 117,
   "id": "solar-arthur",
   "metadata": {},
   "outputs": [],
   "source": [
    "def key(x):\n",
    "    return x[1]"
   ]
  },
  {
   "cell_type": "code",
   "execution_count": 118,
   "id": "appropriate-beast",
   "metadata": {},
   "outputs": [
    {
     "data": {
      "text/plain": [
       "[('ram', 1), ('abhishek', 5), ('kumar', 10), ('bheru', 20)]"
      ]
     },
     "execution_count": 118,
     "metadata": {},
     "output_type": "execute_result"
    }
   ],
   "source": [
    "sorted(a, key = lambda x: x[1])"
   ]
  },
  {
   "cell_type": "markdown",
   "id": "unavailable-washer",
   "metadata": {},
   "source": [
    "#### Decorators"
   ]
  },
  {
   "cell_type": "code",
   "execution_count": 119,
   "id": "criminal-suicide",
   "metadata": {},
   "outputs": [],
   "source": [
    "def show():\n",
    "    print(\"Hello World\")"
   ]
  },
  {
   "cell_type": "code",
   "execution_count": 120,
   "id": "clear-friday",
   "metadata": {},
   "outputs": [
    {
     "name": "stdout",
     "output_type": "stream",
     "text": [
      "Hello World\n"
     ]
    }
   ],
   "source": [
    "show()"
   ]
  },
  {
   "cell_type": "code",
   "execution_count": null,
   "id": "smaller-shell",
   "metadata": {},
   "outputs": [],
   "source": []
  },
  {
   "cell_type": "code",
   "execution_count": null,
   "id": "coral-planning",
   "metadata": {},
   "outputs": [],
   "source": [
    "users = {\n",
    "    \"jatin\": \"password\"\n",
    "    \"prateek\": \"coding blocks\"\n",
    "}"
   ]
  },
  {
   "cell_type": "code",
   "execution_count": null,
   "id": "recognized-principal",
   "metadata": {},
   "outputs": [],
   "source": [
    "def show(username, password):\n",
    "    if username in users and users[username] == password:\n",
    "        print(\"Hello World\")\n",
    "    else:\n",
    "        print(\"Not Authenticated\")"
   ]
  },
  {
   "cell_type": "code",
   "execution_count": 141,
   "id": "owned-egypt",
   "metadata": {},
   "outputs": [
    {
     "name": "stdout",
     "output_type": "stream",
     "text": [
      "Not Authenticated\n"
     ]
    }
   ],
   "source": [
    "show(\"jatin\", \"password\")"
   ]
  },
  {
   "cell_type": "code",
   "execution_count": 145,
   "id": "primary-depression",
   "metadata": {},
   "outputs": [],
   "source": [
    "def add(username, password, a, b):\n",
    "    if username in users and users[username] == password:\n",
    "        print(a+b)\n",
    "    else:\n",
    "        print(\"Not Authenticated\")"
   ]
  },
  {
   "cell_type": "code",
   "execution_count": 146,
   "id": "rental-frank",
   "metadata": {},
   "outputs": [
    {
     "name": "stdout",
     "output_type": "stream",
     "text": [
      "Not Authenticated\n"
     ]
    }
   ],
   "source": [
    "add(\"jatin\", \"password123\", 1, 2)"
   ]
  },
  {
   "cell_type": "code",
   "execution_count": null,
   "id": "judicial-international",
   "metadata": {},
   "outputs": [],
   "source": []
  },
  {
   "cell_type": "code",
   "execution_count": 149,
   "id": "lightweight-raise",
   "metadata": {},
   "outputs": [],
   "source": [
    "def temp(*args, **kwargs):\n",
    "    print(args)\n",
    "    print(kwargs)"
   ]
  },
  {
   "cell_type": "code",
   "execution_count": 151,
   "id": "palestinian-kruger",
   "metadata": {},
   "outputs": [],
   "source": [
    "a = (1, 2, 3)"
   ]
  },
  {
   "cell_type": "code",
   "execution_count": 152,
   "id": "arranged-fleet",
   "metadata": {},
   "outputs": [
    {
     "name": "stdout",
     "output_type": "stream",
     "text": [
      "(1, 2, 3)\n",
      "{}\n"
     ]
    },
    {
     "data": {
      "text/plain": [
       "{}"
      ]
     },
     "execution_count": 152,
     "metadata": {},
     "output_type": "execute_result"
    }
   ],
   "source": [
    "temp(*a)\n",
    "(1, 2, 3)\n",
    "{}"
   ]
  },
  {
   "cell_type": "code",
   "execution_count": null,
   "id": "diverse-kitchen",
   "metadata": {},
   "outputs": [],
   "source": []
  },
  {
   "cell_type": "code",
   "execution_count": null,
   "id": "lasting-meeting",
   "metadata": {},
   "outputs": [],
   "source": []
  },
  {
   "cell_type": "code",
   "execution_count": 164,
   "id": "conceptual-framework",
   "metadata": {},
   "outputs": [],
   "source": [
    "def login_required(func):\n",
    "    def wrapper(username, password, *args, **kwargs):\n",
    "        if username in users and users[username] == password:\n",
    "            #Users is authenticated\n",
    "            func(*args)\n",
    "        else:\n",
    "            print(\"Not Authenticated\")\n",
    "    \n",
    "    return wrapper"
   ]
  },
  {
   "cell_type": "code",
   "execution_count": 165,
   "id": "departmental-favorite",
   "metadata": {},
   "outputs": [],
   "source": [
    "def add(a, b):\n",
    "    print(a+b)"
   ]
  },
  {
   "cell_type": "code",
   "execution_count": null,
   "id": "eight-burton",
   "metadata": {},
   "outputs": [],
   "source": [
    "@login_required\n",
    "def add(a, b):\n",
    "    print(a+b)"
   ]
  },
  {
   "cell_type": "code",
   "execution_count": 170,
   "id": "pressed-imperial",
   "metadata": {},
   "outputs": [
    {
     "name": "stdout",
     "output_type": "stream",
     "text": [
      "Not Authenticated\n"
     ]
    }
   ],
   "source": [
    "add(\"prateek\", \"coding blocks\", 1, 2)"
   ]
  },
  {
   "cell_type": "code",
   "execution_count": 166,
   "id": "domestic-iraqi",
   "metadata": {},
   "outputs": [
    {
     "name": "stdout",
     "output_type": "stream",
     "text": [
      "3\n"
     ]
    }
   ],
   "source": [
    "add(1, 2)"
   ]
  },
  {
   "cell_type": "code",
   "execution_count": 167,
   "id": "abstract-injection",
   "metadata": {},
   "outputs": [],
   "source": [
    "protected_add = login_required(add)"
   ]
  },
  {
   "cell_type": "code",
   "execution_count": 168,
   "id": "subtle-difficulty",
   "metadata": {},
   "outputs": [
    {
     "name": "stdout",
     "output_type": "stream",
     "text": [
      "Not Authenticated\n"
     ]
    }
   ],
   "source": [
    "protected_add(\"jatin\", \"password123\", 1, 2)"
   ]
  },
  {
   "cell_type": "code",
   "execution_count": 172,
   "id": "cellular-discount",
   "metadata": {},
   "outputs": [],
   "source": [
    "add = login_required(add)"
   ]
  },
  {
   "cell_type": "code",
   "execution_count": null,
   "id": "introductory-andrews",
   "metadata": {},
   "outputs": [],
   "source": []
  },
  {
   "cell_type": "markdown",
   "id": "recorded-fence",
   "metadata": {},
   "source": [
    "#### Args and kwargs"
   ]
  },
  {
   "cell_type": "code",
   "execution_count": 181,
   "id": "basic-semiconductor",
   "metadata": {},
   "outputs": [
    {
     "name": "stdout",
     "output_type": "stream",
     "text": [
      "1\n",
      "2\n",
      "(3, 4)\n",
      "<class 'tuple'>\n"
     ]
    }
   ],
   "source": [
    "def fun(a,b,*args):\n",
    "    print(a)\n",
    "    print(b)\n",
    "    print(args)\n",
    "    print(type(args))\n",
    "    \n",
    "fun(1,2,3,4)"
   ]
  },
  {
   "cell_type": "code",
   "execution_count": null,
   "id": "unlikely-friend",
   "metadata": {},
   "outputs": [],
   "source": []
  },
  {
   "cell_type": "code",
   "execution_count": 186,
   "id": "recreational-albuquerque",
   "metadata": {},
   "outputs": [
    {
     "name": "stdout",
     "output_type": "stream",
     "text": [
      "1\n",
      "2\n",
      "(3, 4, 10, 14)\n",
      "<class 'tuple'>\n",
      "{'shake': 'OreoShake', 'drink': 'lemonade', 'fruit': 'Mango'}\n",
      "<class 'dict'>\n",
      "shake OreoShake\n",
      "drink lemonade\n",
      "fruit Mango\n"
     ]
    }
   ],
   "source": [
    "def fun(a,b,*x,**y):\n",
    "    print(a)\n",
    "    print(b)\n",
    "    print(x)\n",
    "    print(type(x))\n",
    "    print(y)\n",
    "    print(type(y))\n",
    "    \n",
    "    for k in y:\n",
    "        print(k,y[k])\n",
    "    \n",
    "fun(1,2,3,4,10,14,shake=\"OreoShake\",drink=\"lemonade\",fruit=\"Mango\")"
   ]
  }
 ],
 "metadata": {
  "kernelspec": {
   "display_name": "Python 3",
   "language": "python",
   "name": "python3"
  },
  "language_info": {
   "codemirror_mode": {
    "name": "ipython",
    "version": 3
   },
   "file_extension": ".py",
   "mimetype": "text/x-python",
   "name": "python",
   "nbconvert_exporter": "python",
   "pygments_lexer": "ipython3",
   "version": "3.9.1"
  }
 },
 "nbformat": 4,
 "nbformat_minor": 5
}
